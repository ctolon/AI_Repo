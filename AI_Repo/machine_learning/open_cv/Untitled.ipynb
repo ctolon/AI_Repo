{
 "cells": [
  {
   "cell_type": "markdown",
   "id": "e8b5c34b",
   "metadata": {},
   "source": [
    "# Table Of Contents"
   ]
  },
  {
   "cell_type": "markdown",
   "id": "bd35c14f",
   "metadata": {},
   "source": [
    "**Import CV and Other Libraries May We Need**"
   ]
  },
  {
   "cell_type": "code",
   "execution_count": 24,
   "id": "5ba255bd",
   "metadata": {},
   "outputs": [
    {
     "name": "stdout",
     "output_type": "stream",
     "text": [
      "Python-openCV API Version: 4.7.0\n"
     ]
    }
   ],
   "source": [
    "import cv2\n",
    "import pathlib\n",
    "print(\"Python-openCV API Version:\", cv2.__version__)"
   ]
  },
  {
   "cell_type": "markdown",
   "id": "f8b0f24c",
   "metadata": {},
   "source": [
    "**Print Fundemental infos**"
   ]
  },
  {
   "cell_type": "code",
   "execution_count": 26,
   "id": "847a1edc",
   "metadata": {},
   "outputs": [
    {
     "name": "stdout",
     "output_type": "stream",
     "text": [
      "Image Path:  /home/batu/AI_Repo/AI_Repo/machine_learning/open_cv/images/m1.png\n",
      "Height = 1004,  Width = 518\n"
     ]
    }
   ],
   "source": [
    "# Get Path infos\n",
    "CURRENT_PATH = str(pathlib.Path().resolve())\n",
    "IMAGE_PATH = CURRENT_PATH + '/images/m1.png'\n",
    "\n",
    "# Read Image as Colored, gray and unchanged\n",
    "image_color = cv2.imread(IMAGE_PATH, cv2.IMREAD_COLOR)\n",
    "image_grayscale = cv2.imread(IMAGE_PATH, cv2.IMREAD_GRAYSCALE)\n",
    "image_unchanged = cv2.imread(IMAGE_PATH, cv2.IMREAD_UNCHANGED)\n",
    "\n",
    "# Print Path\n",
    "print(\"Image Path: \",IMAGE_PATH)\n",
    "\n",
    "# Height - Width\n",
    "h, w = image.shape[:2]\n",
    "print(\"Height = {},  Width = {}\".format(h, w))\n"
   ]
  },
  {
   "cell_type": "code",
   "execution_count": 27,
   "id": "3eaa2357",
   "metadata": {},
   "outputs": [],
   "source": [
    "# For GUI\n",
    "#cv2.waitKey(0)\n",
    "#cv2.destroyAllWindows()"
   ]
  },
  {
   "cell_type": "code",
   "execution_count": 30,
   "id": "d5264043",
   "metadata": {},
   "outputs": [],
   "source": [
    "#Displays image inside a window (For GUI)\n",
    "cv2.imshow(IMAGE_PATH, image_color)  \n",
    "cv2.imshow(IMAGE_PATH, image_grayscale)\n",
    "cv2.imshow(IMAGE_PATH, image_unchanged)"
   ]
  },
  {
   "cell_type": "code",
   "execution_count": null,
   "id": "94fc1a11",
   "metadata": {},
   "outputs": [],
   "source": []
  }
 ],
 "metadata": {
  "kernelspec": {
   "display_name": "Python 3.10.6 ('sklearn-venv')",
   "language": "python",
   "name": "python3"
  },
  "language_info": {
   "codemirror_mode": {
    "name": "ipython",
    "version": 3
   },
   "file_extension": ".py",
   "mimetype": "text/x-python",
   "name": "python",
   "nbconvert_exporter": "python",
   "pygments_lexer": "ipython3",
   "version": "3.10.6"
  },
  "vscode": {
   "interpreter": {
    "hash": "842f5e5adfb643e92f30022534767b3c3e71ccecd1370c8d82fde5270d4e2fb6"
   }
  }
 },
 "nbformat": 4,
 "nbformat_minor": 5
}
